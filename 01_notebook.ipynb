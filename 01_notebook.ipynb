{
 "cells": [
  {
   "cell_type": "markdown",
   "metadata": {},
   "source": [
    "Inspired by an exercise in *Python Crash Course* - I'm going to practise deploying an app in Flask\n"
   ]
  },
  {
   "cell_type": "code",
   "execution_count": 2,
   "metadata": {},
   "outputs": [],
   "source": [
    "with open('pi1000000.txt') as file_object:\n",
    "    contents = file_object.read()"
   ]
  },
  {
   "cell_type": "code",
   "execution_count": 3,
   "metadata": {},
   "outputs": [],
   "source": [
    "#print(contents)"
   ]
  },
  {
   "cell_type": "code",
   "execution_count": 4,
   "metadata": {},
   "outputs": [
    {
     "name": "stdin",
     "output_type": "stream",
     "text": [
      "Enter your birthdate as mmddyy: \n"
     ]
    },
    {
     "name": "stdout",
     "output_type": "stream",
     "text": [
      "Yep, your number appears in the first million digits of pi!\n"
     ]
    }
   ],
   "source": [
    "birthday = input(\"Enter your birthdate as mmddyy:\")\n",
    "if birthday in contents:\n",
    "    print(\"Yep, your number appears in the first million digits of pi!\")\n",
    "else:\n",
    "    print(\"Nope, your number does not appear in the first million digits of pi.\")"
   ]
  },
  {
   "cell_type": "code",
   "execution_count": 14,
   "metadata": {},
   "outputs": [
    {
     "name": "stdin",
     "output_type": "stream",
     "text": [
      "Enter your phone number as xxxxxxx (do not include area code) \n"
     ]
    },
    {
     "name": "stdout",
     "output_type": "stream",
     "text": [
      "Yep, your number appears in the first million digits of pi!\n"
     ]
    }
   ],
   "source": [
    "phone = input(\"Enter your phone number as xxxxxxx (do not include area code)\")\n",
    "if phone in contents:\n",
    "    print(\"Yep, your number appears in the first million digits of pi!\")\n",
    "else:\n",
    "    print(\"Nope, your number does not appear in the first million digits of pi.\")"
   ]
  },
  {
   "cell_type": "code",
   "execution_count": 7,
   "metadata": {},
   "outputs": [
    {
     "name": "stdin",
     "output_type": "stream",
     "text": [
      "Enter your 5-digit zipcode 60641\n"
     ]
    },
    {
     "name": "stdout",
     "output_type": "stream",
     "text": [
      "Yep, your number appears in the first million digits of pi!\n"
     ]
    }
   ],
   "source": [
    "zipcode = input(\"Enter your 5-digit zipcode\")\n",
    "if zipcode in contents:\n",
    "    print(\"Yep, your number appears in the first million digits of pi!\")\n",
    "else:\n",
    "    print(\"Nope, your number does not appear in the first million digits of pi.\")"
   ]
  },
  {
   "cell_type": "code",
   "execution_count": null,
   "metadata": {},
   "outputs": [],
   "source": []
  }
 ],
 "metadata": {
  "kernelspec": {
   "display_name": "Python 3",
   "language": "python",
   "name": "python3"
  },
  "language_info": {
   "codemirror_mode": {
    "name": "ipython",
    "version": 3
   },
   "file_extension": ".py",
   "mimetype": "text/x-python",
   "name": "python",
   "nbconvert_exporter": "python",
   "pygments_lexer": "ipython3",
   "version": "3.9.1"
  }
 },
 "nbformat": 4,
 "nbformat_minor": 4
}
